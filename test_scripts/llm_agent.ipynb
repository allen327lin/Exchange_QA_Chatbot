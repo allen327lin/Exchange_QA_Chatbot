{
 "cells": [
  {
   "cell_type": "markdown",
   "metadata": {},
   "source": [
    "# Agent\n",
    "https://python.langchain.com/v0.1/docs/use_cases/tool_use/quickstart/#chains"
   ]
  },
  {
   "cell_type": "markdown",
   "metadata": {},
   "source": [
    "## Import"
   ]
  },
  {
   "cell_type": "code",
   "execution_count": 54,
   "metadata": {},
   "outputs": [],
   "source": [
    "from dotenv import load_dotenv\n",
    "import os\n",
    "from pathlib import Path\n",
    "\n",
    "from langchain_groq import ChatGroq\n",
    "from langchain_core.tools import tool\n",
    "from langchain import hub\n",
    "from langchain.agents import AgentExecutor, create_tool_calling_agent\n",
    "\n",
    "from groq import Groq\n",
    "import base64\n",
    "import json\n",
    "\n",
    "import chromadb\n",
    "from langchain_text_splitters import RecursiveCharacterTextSplitter\n",
    "from langchain_community.document_loaders import PyPDFLoader\n",
    "from uuid import uuid4"
   ]
  },
  {
   "cell_type": "markdown",
   "metadata": {},
   "source": [
    "## Setup"
   ]
  },
  {
   "cell_type": "code",
   "execution_count": 64,
   "metadata": {},
   "outputs": [],
   "source": [
    "# 刪除環境變量\n",
    "if \"GROQ_API_KEY\" in os.environ:\n",
    "    del os.environ[\"GROQ_API_KEY\"]"
   ]
  },
  {
   "cell_type": "code",
   "execution_count": 65,
   "metadata": {},
   "outputs": [
    {
     "name": "stdout",
     "output_type": "stream",
     "text": [
      "Project root: /Users/allen/Documents/code/Exchange_QA_Chatbot\n",
      "Successfully loaded env variables: True\n"
     ]
    }
   ],
   "source": [
    "# 找根目錄\n",
    "def find_project_root(current_path, marker=\".git\"):\n",
    "    current_path = Path(current_path).resolve()\n",
    "    for parent in current_path.parents:\n",
    "        if (parent / marker).exists():\n",
    "            return parent\n",
    "    return None\n",
    "\n",
    "current_path = os.getcwd()\n",
    "project_root = find_project_root(current_path, marker=\".git\")\n",
    "print(\"Project root:\", project_root)\n",
    "\n",
    "# Load .env file\n",
    "print(f\"Successfully loaded env variables: {load_dotenv(project_root / \".env\")}\")"
   ]
  },
  {
   "cell_type": "code",
   "execution_count": 66,
   "metadata": {},
   "outputs": [
    {
     "name": "stdout",
     "output_type": "stream",
     "text": [
      "Loaded env variables:\n",
      "GROQ_API_KEY = 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\n"
     ]
    }
   ],
   "source": [
    "# Load env variables into python variables\n",
    "print(\"Loaded env variables:\")\n",
    "print(f\"GROQ_API_KEY = {os.getenv(\"GROQ_API_KEY\")}\")\n",
    "GROQ_API_KEY = os.getenv(\"GROQ_API_KEY\")"
   ]
  },
  {
   "cell_type": "markdown",
   "metadata": {},
   "source": [
    "## ChromaDB"
   ]
  },
  {
   "cell_type": "code",
   "execution_count": 101,
   "metadata": {},
   "outputs": [],
   "source": [
    "chroma_client = chromadb.PersistentClient(path=\"vector_db_for_testing\")"
   ]
  },
  {
   "cell_type": "code",
   "execution_count": 102,
   "metadata": {},
   "outputs": [],
   "source": [
    "text_splitter = RecursiveCharacterTextSplitter(\n",
    "    chunk_size=200,\n",
    "    chunk_overlap=100,\n",
    "    length_function=len,\n",
    "    is_separator_regex=False,\n",
    ")"
   ]
  },
  {
   "cell_type": "code",
   "execution_count": 69,
   "metadata": {},
   "outputs": [],
   "source": [
    "# Delete existing collections\n",
    "current_collections = chroma_client.list_collections()\n",
    "for collections in current_collections:\n",
    "    chroma_client.delete_collection(name=\"documents\")\n",
    "\n",
    "# get_or_create_collection\n",
    "documents = chroma_client.get_or_create_collection(\n",
    "    name=\"documents\", \n",
    "    metadata={\"hnsw:space\": \"cosine\", \"hnsw:search_ef\": 100}\n",
    ")\n",
    "\n",
    "def embed_pdf(pdf_file_path):\n",
    "    loader = PyPDFLoader(pdf_file_path)\n",
    "    pages = []\n",
    "    pages = loader.load()\n",
    "\n",
    "    for index in range(len(pages)):\n",
    "        documents_list = text_splitter.split_text(pages[index].page_content)\n",
    "        documents.add(\n",
    "            documents=documents_list,\n",
    "            ids=[f\"id-{str(uuid4())}\" for i in range(len(documents_list))],\n",
    "            metadatas=[{\"source\": pages[index].metadata[\"source\"], \"page\": index+1} for i in range(len(documents_list))]\n",
    "        )\n",
    "\n",
    "documents_folder = \"../data/documents\"\n",
    "pdf_files = [f\"{documents_folder}/{pdf_file_path}\" for pdf_file_path in os.listdir(documents_folder)]\n",
    "\n",
    "for pdf_file in pdf_files:\n",
    "    embed_pdf(pdf_file)"
   ]
  },
  {
   "cell_type": "markdown",
   "metadata": {},
   "source": [
    "### Query test"
   ]
  },
  {
   "cell_type": "code",
   "execution_count": 84,
   "metadata": {},
   "outputs": [],
   "source": [
    "def print_query_results(query_results: dict) -> None:\n",
    "    result_count = len(query_results[\"ids\"][0])\n",
    "    for i in range(result_count):\n",
    "        id       = query_results[\"ids\"][0][i]\n",
    "        distance = query_results[\"distances\"][0][i]\n",
    "        document = query_results[\"documents\"][0][i]\n",
    "        metadata = query_results[\"metadatas\"][0][i]\n",
    "        print(f\"id: {id}, distance: {distance}, metadata: {metadata}, document: {document}\")"
   ]
  },
  {
   "cell_type": "code",
   "execution_count": 85,
   "metadata": {},
   "outputs": [
    {
     "name": "stdout",
     "output_type": "stream",
     "text": [
      "id: id-c6a93277-5308-4eff-90b4-742d80278892, distance: 0.4068576693534851, metadata: {'page': 1, 'source': '../data/documents/交換學校列表.pdf'}, document: 臺北科大 網站地圖 行事曆 聯絡我們 EN \n",
      "學校列表 交換學生\n",
      "學校列表\n",
      "申請流程\n",
      "相關補助\n",
      "經驗分享\n",
      "重要須知\n",
      "關於我們 國際合作 境外學位生 交換學生 兩岸交流 重要須知 \n",
      "實用資訊 相關辦法與要點 休退學注意事項\n",
      "首頁 / 交換學生 / 學校列表\n",
      "出國研修推薦學校名單\n",
      "以下資訊供參考, 各校當期申請資格限制依各校官⽅網站公告\n",
      "為準\n",
      "id: id-6013f034-b772-42fa-9d2a-914b6a788e3f, distance: 0.40844344420832224, metadata: {'page': 3, 'source': '../data/documents/Step2 薦外申請.pdf'}, document: 校，以免造成不必要的困擾。\n",
      "未收到交換學校入學許可前，請先完成下學期選課作業，勿辦\n",
      "理任何出國相關手續，以免浪費金錢與時間；在收到入學許可\n",
      "後，請記得退選 / 撤選下學期選課，以免有曠課紀錄。\n",
      "補助計畫受獎生如最終未獲任何交換校錄取，其資格將自動取\n",
      "消，不得要求予以保留。\n",
      "出國研修生於研修學校選讀課程，不得要求獲取研修學校之學\n",
      "位。\n",
      "id: id-8bbf10ab-c7a0-4772-884f-a254a3dc4df2, distance: 0.4200864115613613, metadata: {'page': 1, 'source': '../data/documents/Step2 薦外申請.pdf'}, document: 先與國際處洽談，請勿未經討論直接與媒合學校窗口接洽。\n",
      "薦外申請流程\n",
      "1. 國際處提名：\n",
      "申請第一學期出發者： 2 月 -3 月\n",
      "申請第二學期出發者： 8 月 -9 月\n",
      "申請人請先行至學校列表確認申請學校的提名與申請截止日期\n",
      "( 如： fact sheet 、網頁等 ) 。少數學校時間結束較早，請第一\n",
      "時間聯絡國際處承辦人。\n",
      "2. 學生申請繳件：\n",
      "id: id-53f284b0-234f-41a1-99a9-ee3fdc248b3d, distance: 0.4277835831079617, metadata: {'page': 2, 'source': '../data/documents/Step2 薦外申請.pdf'}, document: 際處預約洽談後續規劃。\n",
      "錄取後出國前準備\n",
      "學生負責規劃\n",
      "簽證：收到入學許可正影本後請至「駐臺使館」或「駐臺外國\n",
      "機構」辦理學生簽證。\n",
      "其他：收到簽證後請主動規劃差旅、食宿、保險及個人體檢等\n",
      "事宜。\n",
      "⏩ 德國留學簽證、保險及限制提領帳戶：請點我\n",
      "id: id-890a09e5-2045-4251-a0e4-898b3f868f2e, distance: 0.43789550005668265, metadata: {'page': 3, 'source': '../data/documents/Step3 出國前後應繳資料.pdf'}, document: 補助者額外需繳⽂件中）\n",
      "2. 「學生證  & 身分證正反面」格式請點我\n",
      "3. 「帳戶」  （請檢附學校登記的帳戶存摺封面）格式請點我\n",
      "4. 「預借經費申請單」（本單據用途為校內撥款，由國際處印製\n",
      "完成後，另行通知受獎生簽名，出國前 2 周國際處協助送主計\n",
      "室審查）\n",
      "* 以上 (2) 及 (3) 請依序掃描成一個電子檔 (PDF) ，壓縮至 1MB 以\n",
      "id: id-a498cf80-ecb4-4401-9e93-69b8e2b0b637, distance: 0.4491774235982575, metadata: {'page': 4, 'source': '../data/documents/Step1 校內甄選.pdf'}, document: 出，以準備提名作業。\n",
      " 注意  為了不影響原申請人權益，提出「轉換學校」或「補件\n",
      "申請」者需事先確認申請的學校尚有名額。\n",
      "學海惜珠額外文件\n",
      "獎學金詳細資訊請參考「相關補助」。\n",
      "1. 三個月內新式戶口名簿影本\n",
      "id: id-3767ce64-d6ba-4084-867f-ff943bec06ed, distance: 0.4658154249191284, metadata: {'page': 4, 'source': '../data/documents/Step1 校內甄選.pdf'}, document: 申請期程\n",
      "開放時間為每年12 月 1 日至 12 月 10 日。若截止日為假日，將延後\n",
      "至下一個工作天為最後收件日。\n",
      "開放時間結束後如欲提出交換補申請，請參考「校內媒合公告」 →\n",
      "「補申請」。\n",
      "情境一： A 生目前大二，希望大三上學期或下學期出國交換，最早\n",
      "可於大二上學期 12 月提出申請。\n",
      "情境二：同上， A 生錯過 12 月申請期程，仍歡迎於交換校「薦送期\n",
      "id: id-db39e203-83c3-439a-9669-2b82f2842627, distance: 0.46854016069106585, metadata: {'page': 5, 'source': '../data/documents/Step1 校內甄選.pdf'}, document: 劃。\n",
      "須先通過校內甄選並獲得推薦資格，才能夠進行下一階段 ｢ 校\n",
      "外甄選 ｣ ，名單公告前，請勿自行向研修學校提出申請。\n",
      "請避免申請交換的同時申請其他可能造成時間衝突的計畫，\n",
      "如：雙聯學位或其他院系所出國研修活動。\n",
      "通過校內甄選者，僅獲本校推薦至研修學校之資格，並不代表\n",
      "已獲該校錄取，研修學校仍保有最終入學審查權。\n",
      "id: id-b6c6b451-4b87-4fd8-9948-529e7201cce1, distance: 0.47510514575140894, metadata: {'page': 3, 'source': '../data/documents/Step2 薦外申請.pdf'}, document: 後，請記得退選 / 撤選下學期選課，以免有曠課紀錄。\n",
      "補助計畫受獎生如最終未獲任何交換校錄取，其資格將自動取\n",
      "消，不得要求予以保留。\n",
      "出國研修生於研修學校選讀課程，不得要求獲取研修學校之學\n",
      "位。\n",
      " \n",
      "Step1 提出申請 ( 校內徵選 )｜  Step2 薦外申請 ( 校外決選 )｜\n",
      "Step3 出國前後應繳資料\n",
      "id: id-9a0c5a68-0c3d-4986-b541-90df05ddef68, distance: 0.4759511394250957, metadata: {'page': 5, 'source': '../data/documents/Step1 校內甄選.pdf'}, document: 換學生承辦信箱 outbound@ntut.edu.tw，檔名命名為 ｢1_學海\n",
      "惜珠資料 _XXX ( 姓名 )｣ 。\n",
      "其他注意事項\n",
      "語言考試結束後取得成績需一定作業時程，請申請人提早規\n",
      "劃。\n",
      "須先通過校內甄選並獲得推薦資格，才能夠進行下一階段 ｢ 校\n",
      "外甄選 ｣ ，名單公告前，請勿自行向研修學校提出申請。\n",
      "請避免申請交換的同時申請其他可能造成時間衝突的計畫，\n",
      "id: id-609496a9-d0d3-48d5-a5ee-766fe9a4b51c, distance: 0.4771908438829433, metadata: {'page': 3, 'source': '../data/documents/Step3 出國前後應繳資料.pdf'}, document: 下。檔案命名為「2_出國研修離校資料 _( 姓名 )」，與 (5) 備妥\n",
      "後，上傳至指定連結，紙本請自行留存。\n",
      "獲補助者額外需繳文件\n",
      "1. 「出差請示單」  （範本，紙本自行留存，需夾帶至返國後獲\n",
      "補助者額外需繳⽂件中）\n",
      "2. 「學生證  & 身分證正反面」格式請點我\n",
      "3. 「帳戶」  （請檢附學校登記的帳戶存摺封面）格式請點我\n",
      "4. 「預借經費申請單」（本單據用途為校內撥款，由國際處印製\n",
      "id: id-49736166-5ed2-47dc-b60d-03bc8952936a, distance: 0.4793052673339844, metadata: {'page': 4, 'source': '../data/documents/Step1 校內甄選.pdf'}, document: 「補申請」。\n",
      "情境一： A 生目前大二，希望大三上學期或下學期出國交換，最早\n",
      "可於大二上學期 12 月提出申請。\n",
      "情境二：同上， A 生錯過 12 月申請期程，仍歡迎於交換校「薦送期\n",
      "限」截止前 4 週向業務承辦人提出補申請。\n",
      "校內媒合公告\n",
      "預計於次年1 月底前公佈校內媒合結果。\n",
      "➥（114 學年度公告）\n",
      "放棄交換、轉換學校、補件申請\n",
      "自校內公告後，如申請者決定放棄交換、轉換他校申請或補件申\n",
      "id: id-7f3be7a2-fa04-42e2-90cc-7686eadde846, distance: 0.4815729986792546, metadata: {'page': 1, 'source': '../data/documents/Step2 薦外申請.pdf'}, document: 申請人請先行至學校列表確認申請學校的提名與申請截止日期\n",
      "( 如： fact sheet 、網頁等 ) 。少數學校時間結束較早，請第一\n",
      "時間聯絡國際處承辦人。\n",
      "2. 學生申請繳件：\n",
      "交換校提供申請資料，請配合於期限內完成繳件。流程依各校\n",
      "提供資訊為主，可能包含以下方式 ...\n",
      "(1) 線上：交換校申請網頁填寫基本資料、上傳備審文件。\n",
      "(2) 紙本：交換校提供申請表及備審文件列表，經國際處檢閱\n",
      "id: id-b7bdb81b-4e3e-4b51-9be9-52a9a6210ebd, distance: 0.4900545972375321, metadata: {'page': 5, 'source': '../data/documents/Step1 校內甄選.pdf'}, document: 外研修之目標與計畫、預期出國研修課程與目前學習之相關性\n",
      "及未來展望）。\n",
      "以上第 (1) 、 (2) 、 (3) 項文件請掃描成 PDF 檔案，第 (4) 、 (5) 項文\n",
      "件請提供 Word 檔案，於 113 年 1 月 15 日前以電子郵件方式寄給交\n",
      "換學生承辦信箱 outbound@ntut.edu.tw，檔名命名為 ｢1_學海\n",
      "惜珠資料 _XXX ( 姓名 )｣ 。\n",
      "其他注意事項\n",
      "id: id-c965c2d1-12aa-4cfc-a0a2-f451c2e69fa4, distance: 0.500875317416428, metadata: {'page': 2, 'source': '../data/documents/Step2 薦外申請.pdf'}, document: 否正確。\n",
      "      若資料錯誤，請馬上通知國際處或申請學校承辦人，以便\n",
      "補發正確之入學許可。\n",
      "(2) 未獲交換校錄取者：有興趣轉他校申請交換者，請先與國\n",
      "際處預約洽談後續規劃。\n",
      "錄取後出國前準備\n",
      "學生負責規劃\n",
      "簽證：收到入學許可正影本後請至「駐臺使館」或「駐臺外國\n",
      "機構」辦理學生簽證。\n",
      "其他：收到簽證後請主動規劃差旅、食宿、保險及個人體檢等\n",
      "事宜。\n",
      "id: id-92777565-fb0b-4d7b-b93e-9bad473448fe, distance: 0.5012268606855553, metadata: {'page': 3, 'source': '../data/documents/Step3 出國前後應繳資料.pdf'}, document: 後辦理 ) 至學務處辦理手續（分機 1214 ）。\n",
      "本申請單中「出國時間」的回程時間請大家留意！一定要在這個申\n",
      "請單上填報的回程時間前回來並抵達台灣，以免之後被限制出境。\n",
      " \n",
      "返國後\n",
      "一般生 ( 無獎學金的同學 ) 有獎學金的同學 ( 學海飛颺 )\n",
      "有獎學金的同學 ( 學海惜珠 / 臺奧 )\n",
      " \n",
      "請於返國後兩周內辦理以下文件繳交手續。\n",
      "id: id-be4249a7-cb91-43fe-ac8f-9881a1b07dca, distance: 0.506224513053894, metadata: {'page': 8, 'source': '../data/documents/交換學校列表.pdf'}, document: 招生 / 新生入學諮詢  E-mail ：intstudy@ntut.edu.tw\n",
      "國際合作交流業務  E-mail: ntutincoop@gmail.com\n",
      "Copyright © 2024 國立臺北科技大學國際事務處，所刊載內容均受著作權法保護\n",
      "id: id-aee50730-4cd3-412e-997d-0a4d113a19ed, distance: 0.5062247030918787, metadata: {'page': 4, 'source': '../data/documents/Step2 薦外申請.pdf'}, document: 招生 / 新生入學諮詢  E-mail ：intstudy@ntut.edu.tw\n",
      "國際合作交流業務  E-mail: ntutincoop@gmail.com\n",
      "Copyright © 2024 國立臺北科技大學國際事務處，所刊載內容均受著作權法保護\n",
      "id: id-3280b226-a5f5-4d17-a647-bddb297ccb90, distance: 0.5062247030918787, metadata: {'page': 6, 'source': '../data/documents/Step1 校內甄選.pdf'}, document: 招生 / 新生入學諮詢  E-mail ：intstudy@ntut.edu.tw\n",
      "國際合作交流業務  E-mail: ntutincoop@gmail.com\n",
      "Copyright © 2024 國立臺北科技大學國際事務處，所刊載內容均受著作權法保護\n",
      "id: id-4418cdac-c5a6-41e7-b989-db67a6be2b03, distance: 0.5062247030918787, metadata: {'page': 13, 'source': '../data/documents/Step3 出國前後應繳資料.pdf'}, document: 招生 / 新生入學諮詢  E-mail ：intstudy@ntut.edu.tw\n",
      "國際合作交流業務  E-mail: ntutincoop@gmail.com\n",
      "Copyright © 2024 國立臺北科技大學國際事務處，所刊載內容均受著作權法保護\n",
      "id: id-d80975f4-ef57-4223-ab40-b4fd0a83eaee, distance: 0.5156578008092911, metadata: {'page': 7, 'source': '../data/documents/Step3 出國前後應繳資料.pdf'}, document: 查驗\n",
      "           「當⽇」於內政部入出國及移⺠署「查驗\n",
      "公務櫃台」請求⼈⼯補蓋當次入出國查驗戳章)\n",
      "             ※重點：⼀定要4個戳章！\n",
      "　　B. 航空公司開立搭機證明\n",
      "id: id-f36e7f81-6554-4d79-b4a0-fef0b95ccee9, distance: 0.5156578008092911, metadata: {'page': 10, 'source': '../data/documents/Step3 出國前後應繳資料.pdf'}, document: 查驗\n",
      "           「當⽇」於內政部入出國及移⺠署「查驗\n",
      "公務櫃台」請求⼈⼯補蓋當次入出國查驗戳章)\n",
      "            ※重點：⼀定要4個戳章！\n",
      "　　B. 航空公司開立搭機證明\n",
      "id: id-8b15800c-af13-4f81-bc66-54fa95250ad1, distance: 0.5159149349155824, metadata: {'page': 4, 'source': '../data/documents/Step3 出國前後應繳資料.pdf'}, document: 一般生( 無獎學金的同學 )\n",
      "需抵免學分 / 實習同學請注意：\n",
      "* 有關實習學分、專業學分抵免事宜，於對外申請過程中持交換校\n",
      "課程資料與系所討論。並於交換結束後回國跑教務處學分抵免程\n",
      "序。請至教務處下載並填寫『D3 學生抵免學分申請表 - 「已修」\n",
      "或「欲重補修」科目』，填寫範本請參考這裡。學分抵免需附上交\n",
      "換校成績單；實習抵免需附上研修證明。\n",
      "⼀般須繳\n",
      "⽂件\n",
      "(1~4請依\n",
      "序掃描，\n",
      "合併成單\n",
      "id: id-3d76e6c2-fd0d-4fbd-b7b4-15c6ab294031, distance: 0.5187429137329389, metadata: {'page': 2, 'source': '../data/documents/Step2 薦外申請.pdf'}, document: 抵免程序。請至教務處下載並填寫『D3 學生抵免學分申請\n",
      "表 - 「已修」或「欲重補修」科目』，填寫範本請參考這裡。\n",
      "學分抵免需附上交換校成績單；實習抵免需附上研修證明( 可\n",
      "於 step3 找到相關資料 ) 。\n",
      "3. 媒合學校審核：\n",
      "各交換校作業時程不同，一般為申請截止後1 至 2 個月會通知\n",
      "申請結果。若尚未收到通知請耐心等候，本處只要收到回應一\n",
      "定通知同學，請耐心等候結果通知。\n",
      "id: id-d53b0a5a-38f4-4064-a906-e71f18bb42f9, distance: 0.5207440199304422, metadata: {'page': 12, 'source': '../data/documents/Step3 出國前後應繳資料.pdf'}, document: ⾄指定連結。\n",
      "3.獲補助者額外需繳⽂件 (1)~(14)⽂件請依序掃描\n",
      "成⼀個電⼦檔(PDF)，檔案命名「3_學海/臺奧計\n",
      "畫返國\n",
      "   後核銷資料_(姓名)」。\n",
      " \n",
      "其他注意事項\n",
      "出國研修須修讀並通過二門 ( 含 ) 以上課程；研修學校另有規定\n",
      "者，應遵守其規定。未完成者國際處有權取消獎學金資格。\n",
      "所有研修生出國應妥善保管機票相關文件，並於研修期程結束\n"
     ]
    }
   ],
   "source": [
    "query_text = \"學生申請繳件有哪些方式？\"\n",
    "\n",
    "print_query_results(\n",
    "    documents.query(\n",
    "        query_texts=[query_text],\n",
    "        n_results=25\n",
    "    )\n",
    ")"
   ]
  },
  {
   "cell_type": "markdown",
   "metadata": {},
   "source": [
    "## LLM"
   ]
  },
  {
   "cell_type": "markdown",
   "metadata": {},
   "source": [
    "### Tools"
   ]
  },
  {
   "cell_type": "code",
   "execution_count": 48,
   "metadata": {},
   "outputs": [],
   "source": [
    "@tool\n",
    "def image_interpreting(image_path: str) -> str:\n",
    "    \"\"\"Interpret, explain, analyse or describe the content and underlying logic of any given image and return in JSON format.\n",
    "\n",
    "    Args:\n",
    "        image_path: the image file path\n",
    "    \"\"\"\n",
    "    # Function to encode the image\n",
    "    def encode_image(image_path):\n",
    "        with open(image_path, \"rb\") as image_file:\n",
    "            return base64.b64encode(image_file.read()).decode('utf-8')\n",
    "    \n",
    "    base64_image = encode_image(image_path)\n",
    "    request_text = \"You are an assistant skilled at interpreting the content and underlying logic in images. Texts in this image are in Traditional Chinese. List what you observe in this image in JSON format.\"\n",
    "    client = Groq(api_key=os.environ.get(\"GROQ_API_KEY\"))\n",
    "    chat_completion = client.chat.completions.create(\n",
    "        model=\"llama-3.2-90b-vision-preview\",\n",
    "        messages=[\n",
    "            {\n",
    "                \"role\": \"user\",\n",
    "                \"content\": [\n",
    "                    {   \n",
    "                        \"type\": \"text\",\n",
    "                        \"text\": request_text\n",
    "                    },\n",
    "                    {\n",
    "                        \"type\": \"image_url\",\n",
    "                        \"image_url\": {\n",
    "                            \"url\": f\"data:image/jpeg;base64,{base64_image}\",\n",
    "                        },\n",
    "                    },\n",
    "                ],\n",
    "            }\n",
    "        ],\n",
    "        temperature=0.0,\n",
    "        top_p=1,\n",
    "        stream=False,\n",
    "        response_format={\"type\": \"json_object\"},\n",
    "        stop=None,\n",
    "    )\n",
    "    return str(json.loads(chat_completion.choices[0].message.content))\n",
    "    # return \"{'title': 'Step2. 校外徵選', 'sections': [{'title': 'Nomination', 'description': '校方提名', 'dates': ['第一學期：2月至3月', '第二學期：8月至9月']}, {'title': 'Application', 'description': '學生申請文件', 'description2': '申請文件及期程依各交換校規定辦理'}, {'title': 'Result', 'description': '結果通知', 'description2': '母校通知', 'description3': '交換校通知'}, {'title': '學生負責事項', 'description': '包含住宿、簽證、交通、保險、健康檢查，限制提領帳戶...等(依各交換校及所在國家規定)'}], 'button': {'text': '看詳細資訊', 'color': 'orange'}}\"\n",
    "\n",
    "@tool\n",
    "def document_retrieval(string: str) -> str:\n",
    "    \"\"\"A Traditional Chinese, powerful tool designed to retrieve relevant information from the robust document database using natural language questions or key phrases.\n",
    "\n",
    "    Args:\n",
    "        string: a Traditional Chinese sentence or a Traditional Chinese key phrase to retrieve relevant information from the database\n",
    "    \"\"\"\n",
    "    # query_text = \"學生申請繳件有哪些方式？\"\n",
    "\n",
    "    result = documents.query(\n",
    "        query_texts=[string],\n",
    "        n_results=25\n",
    "    )\n",
    "    return str(result[\"documents\"][0])\n",
    "\n",
    "tools = [image_interpreting, document_retrieval]"
   ]
  },
  {
   "cell_type": "markdown",
   "metadata": {},
   "source": [
    "### Check tools"
   ]
  },
  {
   "cell_type": "code",
   "execution_count": 205,
   "metadata": {},
   "outputs": [
    {
     "name": "stdout",
     "output_type": "stream",
     "text": [
      "Name:\n",
      "image_interpreting\n",
      "=====\n",
      "Description:\n",
      "Interpret, explain or analyse the content and underlying logic of any given image and return in JSON format.\n",
      "\n",
      "    Args:\n",
      "        image_path: the image file path\n",
      "=====\n",
      "Args:\n",
      "{'image_path': {'title': 'Image Path', 'type': 'string'}}\n"
     ]
    }
   ],
   "source": [
    "print(f\"Name:\\n{image_interpreting.name}\")\n",
    "print(\"=====\")\n",
    "print(f\"Description:\\n{image_interpreting.description}\")\n",
    "print(\"=====\")\n",
    "print(f\"Args:\\n{image_interpreting.args}\")"
   ]
  },
  {
   "cell_type": "code",
   "execution_count": 206,
   "metadata": {},
   "outputs": [
    {
     "data": {
      "text/plain": [
       "\"{'title': 'Step2. 校外徵選', 'sections': [{'title': 'Nomination', 'description': '校方提名', 'dates': ['第一學期：2月至3月', '第二學期：8月至9月']}, {'title': 'Application', 'description': '學生申請文件', 'description2': '申請文件及期程依各交換校規定辦理'}, {'title': 'Result', 'description': '結果通知', 'description2': '母校通知', 'description3': '交換校通知'}, {'title': '學生負責事項', 'description': '包含住宿、簽證、交通、保險、健康檢查，限制提領帳戶...等(依各交換校及所在國家規定)'}], 'button': {'text': '看詳細資訊', 'color': 'orange'}}\""
      ]
     },
     "execution_count": 206,
     "metadata": {},
     "output_type": "execute_result"
    }
   ],
   "source": [
    "image_interpreting.invoke({\"image_path\": \"../data/images/Step2校外徵選.jpg\"})"
   ]
  },
  {
   "cell_type": "markdown",
   "metadata": {},
   "source": [
    "### Agent"
   ]
  },
  {
   "cell_type": "code",
   "execution_count": 49,
   "metadata": {},
   "outputs": [],
   "source": [
    "llm = ChatGroq(\n",
    "    model=\"llama-3.1-70b-versatile\",\n",
    "    temperature=1,\n",
    "    max_retries=2,\n",
    "    api_key=GROQ_API_KEY\n",
    ")"
   ]
  },
  {
   "cell_type": "code",
   "execution_count": 50,
   "metadata": {},
   "outputs": [
    {
     "name": "stderr",
     "output_type": "stream",
     "text": [
      "/Users/allen/Documents/code/Exchange_QA_Chatbot/venv/lib/python3.12/site-packages/langsmith/client.py:256: LangSmithMissingAPIKeyWarning: API key must be provided when using hosted LangSmith API\n",
      "  warnings.warn(\n"
     ]
    },
    {
     "name": "stdout",
     "output_type": "stream",
     "text": [
      "================================\u001b[1m System Message \u001b[0m================================\n",
      "\n",
      "You are a helpful assistant\n",
      "\n",
      "=============================\u001b[1m Messages Placeholder \u001b[0m=============================\n",
      "\n",
      "\u001b[33;1m\u001b[1;3m{chat_history}\u001b[0m\n",
      "\n",
      "================================\u001b[1m Human Message \u001b[0m=================================\n",
      "\n",
      "\u001b[33;1m\u001b[1;3m{input}\u001b[0m\n",
      "\n",
      "=============================\u001b[1m Messages Placeholder \u001b[0m=============================\n",
      "\n",
      "\u001b[33;1m\u001b[1;3m{agent_scratchpad}\u001b[0m\n"
     ]
    }
   ],
   "source": [
    "# Get the prompt to use - can be replaced with any prompt that includes variables \"agent_scratchpad\" and \"input\"!\n",
    "prompt = hub.pull(\"hwchase17/openai-tools-agent\")\n",
    "prompt.pretty_print()"
   ]
  },
  {
   "cell_type": "code",
   "execution_count": 92,
   "metadata": {},
   "outputs": [],
   "source": [
    "# Construct the tool calling agent\n",
    "agent = create_tool_calling_agent(llm, tools, prompt)\n",
    "\n",
    "# Create an agent executor by passing in the agent and tools\n",
    "agent_executor = AgentExecutor(agent=agent, tools=tools, verbose=False, max_iterations=10)"
   ]
  },
  {
   "cell_type": "code",
   "execution_count": 98,
   "metadata": {},
   "outputs": [],
   "source": [
    "# user_prompt = \"'../data/images/Step2校外徵選.jpg' 請問在校方提名之後，學生要做什麼？\"\n",
    "# user_prompt = \"'../data/images/Step2校外徵選.jpg' 請問校方提名的第一學期是幾月至幾月？\"\n",
    "\n",
    "# user_prompt = f\"\"\"\n",
    "# '../data/images/Step2校外徵選.jpg'\n",
    "# Recommend using tool \"image_interpreting\" to interpret, explain or analyse the content and underlying logic of any given image and return in JSON format.\n",
    "# If information in the image isn't informative enough to answer the Human's message below, you could use the powerful tool \"document_retrieval\" to retrieve relevant information STRICTLY ONLY ONCE from the robust document database using 'Human's message' below.\n",
    "\n",
    "# Human's message:\n",
    "# \"學生負責事項有哪些？\"\n",
    "# \"\"\"\n",
    "\n",
    "user_prompt = f\"\"\"\n",
    "IMPORTANT: Use the powerful \"document_retrieval\" tool to search for information using the complete Human message STRICTLY ONLY TWICE, NO MORE, and then respond to the human's message in Traditional Chinese.\n",
    "\n",
    "Human's message:\n",
    "出國交換生一般需繳文件有哪些？\n",
    "\"\"\""
   ]
  },
  {
   "cell_type": "markdown",
   "metadata": {},
   "source": [
    "### Invoke"
   ]
  },
  {
   "cell_type": "code",
   "execution_count": 95,
   "metadata": {},
   "outputs": [
    {
     "name": "stdout",
     "output_type": "stream",
     "text": [
      "Input:\n",
      "\n",
      "Use the powerful \"document_retrieval\" tool to search for information using the complete Human message STRICTLY ONLY TWICE, NO MORE, and then respond to the human's message in Traditional Chinese.\n",
      "\n",
      "Human's message:\n",
      "出國交換生一般需繳文件有哪些？\n",
      "\n",
      "\n",
      "=====\n",
      "\n",
      "Output:\n",
      "出國交換生一般需繳文件有：1. 獲准出國交換離校申請表；2. 國外研修機構錄取信影本；3. 連帶保證書；4. 出國交換知情同意書。\n"
     ]
    }
   ],
   "source": [
    "agent_result = agent_executor.invoke(\n",
    "    {\n",
    "        \"input\": user_prompt\n",
    "    }\n",
    ")\n",
    "\n",
    "print(f\"Input:\\n{agent_result[\"input\"]}\\n\\n=====\\n\\nOutput:\\n{agent_result[\"output\"]}\")"
   ]
  },
  {
   "cell_type": "markdown",
   "metadata": {},
   "source": [
    "### Streaming"
   ]
  },
  {
   "cell_type": "code",
   "execution_count": null,
   "metadata": {},
   "outputs": [
    {
     "name": "stdout",
     "output_type": "stream",
     "text": [
      "Streaming:\n",
      "=====\n",
      "\n",
      "出國交換生一般需繳納的文件包括：\n",
      "1. 獲准出國交換離校申請表（範本）\n",
      "2. 國外研修機構錄取信影本\n",
      "3. 連帶保證書\n",
      "4. 出國交換知情同意書（Step1 已繳交者無需提供）\n",
      "5. 出差請示單（範本，紙本自行留存，需夾帶至返國後獲補助者額外需繳文件中）\n",
      "6. 學生證 & 身分證正反面（格式請點我）\n",
      "7. 帳戶（請檢附學校登記的帳戶存摺封面）（格式請點我）\n",
      "8. 預借經費申請單（本單據用途為校內撥款，由國際處印製）\n",
      "9. 其他有利申請之文件，如國際化時數累計表（可免附）\n",
      "10. 中華民國身分證正反面影本（非中華民國國籍者，請提供在臺居留證正反面影本）\n",
      "11. 特殊身份證明（非對象者可免附）\n",
      "12. 出國交換知情同意書\n",
      "\n",
      "這些文件可能需要根據學校的不同而有所變化，同時也有可能需要提供其他額外的文件。\n",
      "=====\n",
      "Streaming ends.\n",
      "\n"
     ]
    }
   ],
   "source": [
    "print(f\"Streaming:\\n=====\\n\")\n",
    "\n",
    "async for event in agent_executor.astream_events(\n",
    "    {\"input\": user_prompt}, version=\"v1\"\n",
    "):\n",
    "    kind = event[\"event\"]\n",
    "    if kind == \"on_chain_start\":\n",
    "        if (event[\"name\"] == \"Agent\"):  # Was assigned when creating the agent with `.with_config({\"run_name\": \"Agent\"})`\n",
    "            # print(f\"Starting agent: {event['name']} with input: {event['data'].get('input')}\")\n",
    "            pass\n",
    "    elif kind == \"on_chain_end\":\n",
    "        if (event[\"name\"] == \"Agent\"):  # Was assigned when creating the agent with `.with_config({\"run_name\": \"Agent\"})`\n",
    "            # print()\n",
    "            # print(\"--\")\n",
    "            # print(\n",
    "            #     f\"Done agent: {event['name']} with output: {event['data'].get('output')['output']}\"\n",
    "            # )\n",
    "            pass\n",
    "    if kind == \"on_chat_model_stream\":\n",
    "        content = event[\"data\"][\"chunk\"].content\n",
    "        if content:\n",
    "            # Empty content in the context of OpenAI means\n",
    "            # that the model is asking for a tool to be invoked.\n",
    "            # So we only print non-empty content\n",
    "            print(content, end=\"\")\n",
    "    elif kind == \"on_tool_start\":\n",
    "        # print(\"--\")\n",
    "        # print(\n",
    "        #     f\"Starting tool: {event['name']} with inputs: {event['data'].get('input')}\"\n",
    "        # )\n",
    "        pass\n",
    "    elif kind == \"on_tool_end\":\n",
    "        # print(f\"Done tool: {event['name']}\")\n",
    "        # print(f\"Tool output was: {event['data'].get('output')}\")\n",
    "        # print(\"--\")\n",
    "        pass\n",
    "\n",
    "print(f\"\\n=====\\nStreaming ends.\")"
   ]
  }
 ],
 "metadata": {
  "language_info": {
   "name": "python"
  }
 },
 "nbformat": 4,
 "nbformat_minor": 2
}
