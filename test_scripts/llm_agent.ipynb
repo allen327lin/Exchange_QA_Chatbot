{
 "cells": [
  {
   "cell_type": "markdown",
   "metadata": {},
   "source": [
    "# Agent\n",
    "https://python.langchain.com/v0.1/docs/use_cases/tool_use/quickstart/#chains"
   ]
  },
  {
   "cell_type": "markdown",
   "metadata": {},
   "source": [
    "## Import"
   ]
  },
  {
   "cell_type": "code",
   "execution_count": 1,
   "metadata": {},
   "outputs": [],
   "source": [
    "from dotenv import load_dotenv\n",
    "import os\n",
    "from pathlib import Path\n",
    "\n",
    "from langchain_groq import ChatGroq\n",
    "from langchain_core.tools import tool\n",
    "from langchain import hub\n",
    "from langchain.agents import AgentExecutor, create_tool_calling_agent\n",
    "\n",
    "from groq import Groq\n",
    "import base64\n",
    "import json\n",
    "\n",
    "import chromadb\n",
    "from langchain_text_splitters import RecursiveCharacterTextSplitter\n",
    "from langchain_community.document_loaders import PyPDFLoader\n",
    "from uuid import uuid4"
   ]
  },
  {
   "cell_type": "markdown",
   "metadata": {},
   "source": [
    "## Setup"
   ]
  },
  {
   "cell_type": "code",
   "execution_count": 2,
   "metadata": {},
   "outputs": [],
   "source": [
    "# 刪除環境變量\n",
    "if \"GROQ_API_KEY\" in os.environ:\n",
    "    del os.environ[\"GROQ_API_KEY\"]"
   ]
  },
  {
   "cell_type": "code",
   "execution_count": 3,
   "metadata": {},
   "outputs": [
    {
     "name": "stdout",
     "output_type": "stream",
     "text": [
      "Project root: /Users/allen/Documents/code/Exchange_QA_Chatbot\n",
      "Successfully loaded env variables: True\n"
     ]
    }
   ],
   "source": [
    "# 找根目錄\n",
    "def find_project_root(current_path, marker=\".git\"):\n",
    "    current_path = Path(current_path).resolve()\n",
    "    for parent in current_path.parents:\n",
    "        if (parent / marker).exists():\n",
    "            return parent\n",
    "    return None\n",
    "\n",
    "current_path = os.getcwd()\n",
    "project_root = find_project_root(current_path, marker=\".git\")\n",
    "print(\"Project root:\", project_root)\n",
    "\n",
    "# Load .env file\n",
    "print(f\"Successfully loaded env variables: {load_dotenv(project_root / \".env\")}\")"
   ]
  },
  {
   "cell_type": "code",
   "execution_count": 4,
   "metadata": {},
   "outputs": [
    {
     "name": "stdout",
     "output_type": "stream",
     "text": [
      "Loaded env variables:\n",
      "GROQ_API_KEY = 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\n"
     ]
    }
   ],
   "source": [
    "# Load env variables into python variables\n",
    "print(\"Loaded env variables:\")\n",
    "print(f\"GROQ_API_KEY = {os.getenv(\"GROQ_API_KEY\")}\")\n",
    "GROQ_API_KEY = os.getenv(\"GROQ_API_KEY\")"
   ]
  },
  {
   "cell_type": "markdown",
   "metadata": {},
   "source": [
    "## ChromaDB"
   ]
  },
  {
   "cell_type": "code",
   "execution_count": 45,
   "metadata": {},
   "outputs": [],
   "source": [
    "chroma_client = chromadb.PersistentClient(path=\"vector_db\")"
   ]
  },
  {
   "cell_type": "code",
   "execution_count": 46,
   "metadata": {},
   "outputs": [],
   "source": [
    "text_splitter = RecursiveCharacterTextSplitter(\n",
    "    chunk_size=200,\n",
    "    chunk_overlap=100,\n",
    "    length_function=len,\n",
    "    is_separator_regex=False,\n",
    ")"
   ]
  },
  {
   "cell_type": "code",
   "execution_count": 47,
   "metadata": {},
   "outputs": [],
   "source": [
    "# Delete existing collections\n",
    "current_collections = chroma_client.list_collections()\n",
    "for collections in current_collections:\n",
    "    chroma_client.delete_collection(name=\"documents\")\n",
    "\n",
    "# get_or_create_collection\n",
    "documents = chroma_client.get_or_create_collection(\n",
    "    name=\"documents\", \n",
    "    metadata={\"hnsw:space\": \"cosine\", \"hnsw:search_ef\": 100}\n",
    ")\n",
    "\n",
    "def embed_pdf(pdf_file_path):\n",
    "    loader = PyPDFLoader(pdf_file_path)\n",
    "    pages = []\n",
    "    pages = loader.load()\n",
    "\n",
    "    for index in range(len(pages)):\n",
    "        documents_list = text_splitter.split_text(pages[index].page_content)\n",
    "        documents.add(\n",
    "            documents=documents_list,\n",
    "            ids=[f\"id-{str(uuid4())}\" for i in range(len(documents_list))],\n",
    "            metadatas=[{\"source\": pages[index].metadata[\"source\"], \"page\": index+1} for i in range(len(documents_list))]\n",
    "        )\n",
    "\n",
    "documents_folder = \"../data/documents\"\n",
    "pdf_files = [f\"{documents_folder}/{pdf_file_path}\" for pdf_file_path in os.listdir(documents_folder)]\n",
    "\n",
    "for pdf_file in pdf_files:\n",
    "    embed_pdf(pdf_file)"
   ]
  },
  {
   "cell_type": "code",
   "execution_count": null,
   "metadata": {},
   "outputs": [],
   "source": [
    "def print_query_results(query_list: list, query_results: dict) -> None:\n",
    "    result_count = len(query_results['ids'][0])\n",
    "\n",
    "    for i in range(len(query_list)):\n",
    "        print(f'Results for query: {query_list[i]}')\n",
    "\n",
    "        for j in range(result_count):\n",
    "            id       = query_results[\"ids\"][i][j]\n",
    "            distance = query_results['distances'][i][j]\n",
    "            document = query_results['documents'][i][j]\n",
    "            metadata = query_results['metadatas'][i][j]\n",
    "\n",
    "            print(f'id: {id}, distance: {distance}, metadata: {metadata}, document: {document}')"
   ]
  },
  {
   "cell_type": "code",
   "execution_count": null,
   "metadata": {},
   "outputs": [],
   "source": [
    "query_text = \"學生申請繳件有哪些方式？\"\n",
    "\n",
    "documents.query(\n",
    "    query_texts=[query_text],\n",
    "    n_results=25\n",
    ")"
   ]
  },
  {
   "cell_type": "markdown",
   "metadata": {},
   "source": [
    "## LLM"
   ]
  },
  {
   "cell_type": "markdown",
   "metadata": {},
   "source": [
    "### Tools"
   ]
  },
  {
   "cell_type": "code",
   "execution_count": 48,
   "metadata": {},
   "outputs": [],
   "source": [
    "@tool\n",
    "def image_interpreting(image_path: str) -> str:\n",
    "    \"\"\"Interpret, explain, analyse or describe the content and underlying logic of any given image and return in JSON format.\n",
    "\n",
    "    Args:\n",
    "        image_path: the image file path\n",
    "    \"\"\"\n",
    "    # Function to encode the image\n",
    "    def encode_image(image_path):\n",
    "        with open(image_path, \"rb\") as image_file:\n",
    "            return base64.b64encode(image_file.read()).decode('utf-8')\n",
    "    \n",
    "    base64_image = encode_image(image_path)\n",
    "    request_text = \"You are an assistant skilled at interpreting the content and underlying logic in images. Texts in this image are in Traditional Chinese. List what you observe in this image in JSON format.\"\n",
    "    client = Groq(api_key=os.environ.get(\"GROQ_API_KEY\"))\n",
    "    chat_completion = client.chat.completions.create(\n",
    "        model=\"llama-3.2-90b-vision-preview\",\n",
    "        messages=[\n",
    "            {\n",
    "                \"role\": \"user\",\n",
    "                \"content\": [\n",
    "                    {   \n",
    "                        \"type\": \"text\",\n",
    "                        \"text\": request_text\n",
    "                    },\n",
    "                    {\n",
    "                        \"type\": \"image_url\",\n",
    "                        \"image_url\": {\n",
    "                            \"url\": f\"data:image/jpeg;base64,{base64_image}\",\n",
    "                        },\n",
    "                    },\n",
    "                ],\n",
    "            }\n",
    "        ],\n",
    "        temperature=0.0,\n",
    "        top_p=1,\n",
    "        stream=False,\n",
    "        response_format={\"type\": \"json_object\"},\n",
    "        stop=None,\n",
    "    )\n",
    "    return str(json.loads(chat_completion.choices[0].message.content))\n",
    "    # return \"{'title': 'Step2. 校外徵選', 'sections': [{'title': 'Nomination', 'description': '校方提名', 'dates': ['第一學期：2月至3月', '第二學期：8月至9月']}, {'title': 'Application', 'description': '學生申請文件', 'description2': '申請文件及期程依各交換校規定辦理'}, {'title': 'Result', 'description': '結果通知', 'description2': '母校通知', 'description3': '交換校通知'}, {'title': '學生負責事項', 'description': '包含住宿、簽證、交通、保險、健康檢查，限制提領帳戶...等(依各交換校及所在國家規定)'}], 'button': {'text': '看詳細資訊', 'color': 'orange'}}\"\n",
    "\n",
    "@tool\n",
    "def document_retrieval(string: str) -> str:\n",
    "    \"\"\"A Traditional Chinese, powerful tool designed to retrieve relevant information from the robust document database using natural language questions or key phrases.\n",
    "\n",
    "    Args:\n",
    "        string: a Traditional Chinese sentence or a Traditional Chinese key phrase to retrieve relevant information from the database\n",
    "    \"\"\"\n",
    "    # query_text = \"學生申請繳件有哪些方式？\"\n",
    "\n",
    "    result = documents.query(\n",
    "        query_texts=[string],\n",
    "        n_results=25\n",
    "    )\n",
    "    return str(result[\"documents\"][0])\n",
    "\n",
    "tools = [image_interpreting, document_retrieval]"
   ]
  },
  {
   "cell_type": "markdown",
   "metadata": {},
   "source": [
    "### Check tools"
   ]
  },
  {
   "cell_type": "code",
   "execution_count": 205,
   "metadata": {},
   "outputs": [
    {
     "name": "stdout",
     "output_type": "stream",
     "text": [
      "Name:\n",
      "image_interpreting\n",
      "=====\n",
      "Description:\n",
      "Interpret, explain or analyse the content and underlying logic of any given image and return in JSON format.\n",
      "\n",
      "    Args:\n",
      "        image_path: the image file path\n",
      "=====\n",
      "Args:\n",
      "{'image_path': {'title': 'Image Path', 'type': 'string'}}\n"
     ]
    }
   ],
   "source": [
    "print(f\"Name:\\n{image_interpreting.name}\")\n",
    "print(\"=====\")\n",
    "print(f\"Description:\\n{image_interpreting.description}\")\n",
    "print(\"=====\")\n",
    "print(f\"Args:\\n{image_interpreting.args}\")"
   ]
  },
  {
   "cell_type": "code",
   "execution_count": 206,
   "metadata": {},
   "outputs": [
    {
     "data": {
      "text/plain": [
       "\"{'title': 'Step2. 校外徵選', 'sections': [{'title': 'Nomination', 'description': '校方提名', 'dates': ['第一學期：2月至3月', '第二學期：8月至9月']}, {'title': 'Application', 'description': '學生申請文件', 'description2': '申請文件及期程依各交換校規定辦理'}, {'title': 'Result', 'description': '結果通知', 'description2': '母校通知', 'description3': '交換校通知'}, {'title': '學生負責事項', 'description': '包含住宿、簽證、交通、保險、健康檢查，限制提領帳戶...等(依各交換校及所在國家規定)'}], 'button': {'text': '看詳細資訊', 'color': 'orange'}}\""
      ]
     },
     "execution_count": 206,
     "metadata": {},
     "output_type": "execute_result"
    }
   ],
   "source": [
    "image_interpreting.invoke({\"image_path\": \"../data/images/Step2校外徵選.jpg\"})"
   ]
  },
  {
   "cell_type": "markdown",
   "metadata": {},
   "source": [
    "### Agent"
   ]
  },
  {
   "cell_type": "code",
   "execution_count": 49,
   "metadata": {},
   "outputs": [],
   "source": [
    "llm = ChatGroq(\n",
    "    model=\"llama-3.1-70b-versatile\",\n",
    "    temperature=1,\n",
    "    max_retries=2,\n",
    "    api_key=GROQ_API_KEY\n",
    ")"
   ]
  },
  {
   "cell_type": "code",
   "execution_count": 50,
   "metadata": {},
   "outputs": [
    {
     "name": "stderr",
     "output_type": "stream",
     "text": [
      "/Users/allen/Documents/code/Exchange_QA_Chatbot/venv/lib/python3.12/site-packages/langsmith/client.py:256: LangSmithMissingAPIKeyWarning: API key must be provided when using hosted LangSmith API\n",
      "  warnings.warn(\n"
     ]
    },
    {
     "name": "stdout",
     "output_type": "stream",
     "text": [
      "================================\u001b[1m System Message \u001b[0m================================\n",
      "\n",
      "You are a helpful assistant\n",
      "\n",
      "=============================\u001b[1m Messages Placeholder \u001b[0m=============================\n",
      "\n",
      "\u001b[33;1m\u001b[1;3m{chat_history}\u001b[0m\n",
      "\n",
      "================================\u001b[1m Human Message \u001b[0m=================================\n",
      "\n",
      "\u001b[33;1m\u001b[1;3m{input}\u001b[0m\n",
      "\n",
      "=============================\u001b[1m Messages Placeholder \u001b[0m=============================\n",
      "\n",
      "\u001b[33;1m\u001b[1;3m{agent_scratchpad}\u001b[0m\n"
     ]
    }
   ],
   "source": [
    "# Get the prompt to use - can be replaced with any prompt that includes variables \"agent_scratchpad\" and \"input\"!\n",
    "prompt = hub.pull(\"hwchase17/openai-tools-agent\")\n",
    "prompt.pretty_print()"
   ]
  },
  {
   "cell_type": "code",
   "execution_count": 51,
   "metadata": {},
   "outputs": [],
   "source": [
    "# Construct the tool calling agent\n",
    "agent = create_tool_calling_agent(llm, tools, prompt)"
   ]
  },
  {
   "cell_type": "code",
   "execution_count": 52,
   "metadata": {},
   "outputs": [],
   "source": [
    "# Create an agent executor by passing in the agent and tools\n",
    "agent_executor = AgentExecutor(agent=agent, tools=tools, verbose=True, max_iterations=10)"
   ]
  },
  {
   "cell_type": "code",
   "execution_count": 53,
   "metadata": {},
   "outputs": [
    {
     "name": "stdout",
     "output_type": "stream",
     "text": [
      "\n",
      "\n",
      "\u001b[1m> Entering new AgentExecutor chain...\u001b[0m\n",
      "\u001b[32;1m\u001b[1;3m\n",
      "Invoking: `document_retrieval` with `{'string': '出國交換生一般需繳文件有哪些？'}`\n",
      "\n",
      "\n",
      "\u001b[0m\u001b[33;1m\u001b[1;3m['出，以準備提名作業。\\n 注意  為了不影響原申請人權益，提出「轉換學校」或「補件\\n申請」者需事先確認申請的學校尚有名額。\\n學海惜珠額外文件\\n獎學金詳細資訊請參考「相關補助」。\\n1. 三個月內新式戶口名簿影本', '際處預約洽談後續規劃。\\n錄取後出國前準備\\n學生負責規劃\\n簽證：收到入學許可正影本後請至「駐臺使館」或「駐臺外國\\n機構」辦理學生簽證。\\n其他：收到簽證後請主動規劃差旅、食宿、保險及個人體檢等\\n事宜。\\n⏩ 德國留學簽證、保險及限制提領帳戶：請點我', '後辦理 ) 至學務處辦理手續（分機 1214 ）。\\n本申請單中「出國時間」的回程時間請大家留意！一定要在這個申\\n請單上填報的回程時間前回來並抵達台灣，以免之後被限制出境。\\n \\n返國後\\n一般生 ( 無獎學金的同學 ) 有獎學金的同學 ( 學海飛颺 )\\n有獎學金的同學 ( 學海惜珠 / 臺奧 )\\n \\n請於返國後兩周內辦理以下文件繳交手續。', '先與國際處洽談，請勿未經討論直接與媒合學校窗口接洽。\\n薦外申請流程\\n1. 國際處提名：\\n申請第一學期出發者： 2 月 -3 月\\n申請第二學期出發者： 8 月 -9 月\\n申請人請先行至學校列表確認申請學校的提名與申請截止日期\\n( 如： fact sheet 、網頁等 ) 。少數學校時間結束較早，請第一\\n時間聯絡國際處承辦人。\\n2. 學生申請繳件：', '出國前\\n一般需繳文件 ( 所有出國交換學生 )\\n獲補助者額外需繳文件學務處兵役文件 ( 限男性 )\\n \\n請先閱讀旅外安全須知 (海外常見詐騙手法) ，並於出國前一個月辦\\n理「一般須繳文件」、「獲補助者額外需繳交文件」等手續。\\n旅外安全須知\\n教育部來函，鑒於國際學術交流亦趨蓬勃，學生出國交流活動逐漸\\n增加，請同學出國應妥善規劃，至外交部領事事務局網站', '(PDF) 並命名為「3_出國後研修資料_姓名」。\\n2.符合中低收資格者連同第(5)項Excel檔⼀併繳交⾄\\n指定連結。\\n \\n有獎學金的同學( 學海飛颺 )\\n學海計畫受\\n獎⽣⼼得\\n學海計畫受獎⽣請於研修結束後⼆週內⾄教育部\\n「選送⼈才出國研修服務網」上傳⼼得及填寫問\\n卷，⼼得格式參考。', 'outbound@ntut.edu.tw 並向業務承辦提出申請。\\n補件申請：請按本網頁「交換及獎學金申請文件」準備申請資\\n料，於本校每學期開學當日前向業務承辦提出申請，例如欲於\\n114-1 學期出國者，需於 113-2 開學 (114 年 2 月 17 日 ) 前提\\n出，以準備提名作業。\\n 注意  為了不影響原申請人權益，提出「轉換學校」或「補件\\n申請」者需事先確認申請的學校尚有名額。', '⾄指定連結。\\n3.獲補助者額外需繳⽂件 (1)~(14)⽂件請依序掃描\\n成⼀個電⼦檔(PDF)，檔案命名「3_學海/臺奧計\\n畫返國\\n\\xa0 \\xa0後核銷資料_(姓名)」。\\n \\n其他注意事項\\n出國研修須修讀並通過二門 ( 含 ) 以上課程；研修學校另有規定\\n者，應遵守其規定。未完成者國際處有權取消獎學金資格。\\n所有研修生出國應妥善保管機票相關文件，並於研修期程結束', '成⼀個電⼦檔(PDF)，檔案命名「3_學海/臺奧計\\n畫返國\\n\\xa0 \\xa0後核銷資料_(姓名)」。\\n \\n有獎學金的同學( 學海惜珠、臺奧 )\\n學海計畫受\\n獎⽣⼼得\\n學海計畫受獎⽣請於研修結束後⼆週內⾄教育部\\n「選送⼈才出國研修服務網」上傳⼼得及填寫問\\n卷，⼼得格式參考。', '下。檔案命名為「2_出國研修離校資料 _( 姓名 )」，與 (5) 備妥\\n後，上傳至指定連結，紙本請自行留存。\\n獲補助者額外需繳文件\\n1. 「出差請示單」  （範本，紙本自行留存，需夾帶至返國後獲\\n補助者額外需繳⽂件中）\\n2. 「學生證  & 身分證正反面」格式請點我\\n3. 「帳戶」  （請檢附學校登記的帳戶存摺封面）格式請點我\\n4. 「預借經費申請單」（本單據用途為校內撥款，由國際處印製', '出國研修生須配合校內各類說明會或活動，發表交換感想，並\\n主動投稿校刊 (連結) 。\\n \\nStep1 提出申請 ( 校內徵選 )｜  Step2 薦外申請 ( 校外決選 )｜\\nStep3 出國前後應繳資料', '劃。\\n須先通過校內甄選並獲得推薦資格，才能夠進行下一階段 ｢ 校\\n外甄選 ｣ ，名單公告前，請勿自行向研修學校提出申請。\\n請避免申請交換的同時申請其他可能造成時間衝突的計畫，\\n如：雙聯學位或其他院系所出國研修活動。\\n通過校內甄選者，僅獲本校推薦至研修學校之資格，並不代表\\n已獲該校錄取，研修學校仍保有最終入學審查權。', 'google 表單。\\n轉換學校：請填妥「轉換交換校聲明書」，掃描檔案上傳至\\ngoogle 表單。每次轉換「限一次」，如無特殊事由不得任意\\n轉換，並於「交換校薦送期限」截止前 4 週寫信至\\noutbound@ntut.edu.tw 並向業務承辦提出申請。\\n補件申請：請按本網頁「交換及獎學金申請文件」準備申請資\\n料，於本校每學期開學當日前向業務承辦提出申請，例如欲於', '1. 「獲准出國交換離校申請表」（範例）\\n申請表內含專業學分、實習學分抵免欄位，請填妥後至相關單\\n位完成核章。\\n2. 「國外研修機構錄取信影本」\\n3. 「連帶保證書」\\n4. 「出國交換知情同意書」  （ Step1 已繳交者無需提供）', '備註：\\n1.⼀般須繳⽂件(1)~(4)請依序掃描成⼀個電⼦檔\\n(PDF) 並命名為「3_出國後研修資料_姓名」。\\n2.符合中低收資格者連同第(5)項Excel檔⼀併繳交\\n⾄指定連結。\\n3.獲補助者額外需繳⽂件 (1)~(14)⽂件請依序掃描\\n成⼀個電⼦檔(PDF)，檔案命名「3_學海/臺奧計\\n畫返國\\n\\xa0 \\xa0後核銷資料_(姓名)」。\\n \\n其他注意事項', '招生 / 新生入學諮詢  E-mail ：intstudy@ntut.edu.tw\\n國際合作交流業務  E-mail: ntutincoop@gmail.com\\nCopyright © 2024 國立臺北科技大學國際事務處，所刊載內容均受著作權法保護', '招生 / 新生入學諮詢  E-mail ：intstudy@ntut.edu.tw\\n國際合作交流業務  E-mail: ntutincoop@gmail.com\\nCopyright © 2024 國立臺北科技大學國際事務處，所刊載內容均受著作權法保護', '招生 / 新生入學諮詢  E-mail ：intstudy@ntut.edu.tw\\n國際合作交流業務  E-mail: ntutincoop@gmail.com\\nCopyright © 2024 國立臺北科技大學國際事務處，所刊載內容均受著作權法保護', '招生 / 新生入學諮詢  E-mail ：intstudy@ntut.edu.tw\\n國際合作交流業務  E-mail: ntutincoop@gmail.com\\nCopyright © 2024 國立臺北科技大學國際事務處，所刊載內容均受著作權法保護', '查驗\\n\\xa0 \\xa0 \\xa0 \\xa0 \\xa0 \\xa0「當⽇」於內政部入出國及移⺠署「查驗\\n公務櫃台」請求⼈⼯補蓋當次入出國查驗戳章)\\n\\xa0 \\xa0 \\xa0 \\xa0 \\xa0 \\xa0 \\xa0※重點：⼀定要4個戳章！\\n\\u3000\\u3000B. 航空公司開立搭機證明', '查驗\\n\\xa0 \\xa0 \\xa0 \\xa0 \\xa0 \\xa0「當⽇」於內政部入出國及移⺠署「查驗\\n公務櫃台」請求⼈⼯補蓋當次入出國查驗戳章)\\n\\xa0 \\xa0 \\xa0 \\xa0 \\xa0 \\xa0\\xa0※重點：⼀定要4個戳章！\\n\\u3000\\u3000B. 航空公司開立搭機證明', '申請人請先行至學校列表確認申請學校的提名與申請截止日期\\n( 如： fact sheet 、網頁等 ) 。少數學校時間結束較早，請第一\\n時間聯絡國際處承辦人。\\n2. 學生申請繳件：\\n交換校提供申請資料，請配合於期限內完成繳件。流程依各校\\n提供資訊為主，可能包含以下方式 ...\\n(1) 線上：交換校申請網頁填寫基本資料、上傳備審文件。\\n(2) 紙本：交換校提供申請表及備審文件列表，經國際處檢閱', '需針對特定學校撰寫，建議以英文撰寫）\\n5. 行政契約書 （規範內容請詳細閱讀）\\n6. 其他有利申請之文件：如國際化時數累計表 ( 可免附）【募集\\n國際志工中 ( 請點我報名 )】\\n7. 中華民國身分證正反面影本（非中華民國國籍者，請提供在臺\\n居留證正反面影本）\\n8. 特殊身份證明 ( 非對象者可免附）\\n9. 出國交換知情同意書', '校，以免造成不必要的困擾。\\n未收到交換學校入學許可前，請先完成下學期選課作業，勿辦\\n理任何出國相關手續，以免浪費金錢與時間；在收到入學許可\\n後，請記得退選 / 撤選下學期選課，以免有曠課紀錄。\\n補助計畫受獎生如最終未獲任何交換校錄取，其資格將自動取\\n消，不得要求予以保留。\\n出國研修生於研修學校選讀課程，不得要求獲取研修學校之學\\n位。', '返國後\\n一般生 ( 無獎學金的同學 ) 有獎學金的同學 ( 學海飛颺 )\\n有獎學金的同學 ( 學海惜珠 / 臺奧 )\\n \\n請於返國後兩周內辦理以下文件繳交手續。\\n一般生(無獎學金的同學) ：「一般須繳文件」 + 「照片 5 張 .zip\\n檔」。請包在同一封信寄至承辦人信箱，細節請看下方說明。']\u001b[0m\u001b[32;1m\u001b[1;3m\n",
      "Invoking: `document_retrieval` with `{'string': '出國交換生一般需繳文件有哪些？'}`\n",
      "\n",
      "\n",
      "\u001b[0m\u001b[33;1m\u001b[1;3m['出，以準備提名作業。\\n 注意  為了不影響原申請人權益，提出「轉換學校」或「補件\\n申請」者需事先確認申請的學校尚有名額。\\n學海惜珠額外文件\\n獎學金詳細資訊請參考「相關補助」。\\n1. 三個月內新式戶口名簿影本', '際處預約洽談後續規劃。\\n錄取後出國前準備\\n學生負責規劃\\n簽證：收到入學許可正影本後請至「駐臺使館」或「駐臺外國\\n機構」辦理學生簽證。\\n其他：收到簽證後請主動規劃差旅、食宿、保險及個人體檢等\\n事宜。\\n⏩ 德國留學簽證、保險及限制提領帳戶：請點我', '後辦理 ) 至學務處辦理手續（分機 1214 ）。\\n本申請單中「出國時間」的回程時間請大家留意！一定要在這個申\\n請單上填報的回程時間前回來並抵達台灣，以免之後被限制出境。\\n \\n返國後\\n一般生 ( 無獎學金的同學 ) 有獎學金的同學 ( 學海飛颺 )\\n有獎學金的同學 ( 學海惜珠 / 臺奧 )\\n \\n請於返國後兩周內辦理以下文件繳交手續。', '先與國際處洽談，請勿未經討論直接與媒合學校窗口接洽。\\n薦外申請流程\\n1. 國際處提名：\\n申請第一學期出發者： 2 月 -3 月\\n申請第二學期出發者： 8 月 -9 月\\n申請人請先行至學校列表確認申請學校的提名與申請截止日期\\n( 如： fact sheet 、網頁等 ) 。少數學校時間結束較早，請第一\\n時間聯絡國際處承辦人。\\n2. 學生申請繳件：', '出國前\\n一般需繳文件 ( 所有出國交換學生 )\\n獲補助者額外需繳文件學務處兵役文件 ( 限男性 )\\n \\n請先閱讀旅外安全須知 (海外常見詐騙手法) ，並於出國前一個月辦\\n理「一般須繳文件」、「獲補助者額外需繳交文件」等手續。\\n旅外安全須知\\n教育部來函，鑒於國際學術交流亦趨蓬勃，學生出國交流活動逐漸\\n增加，請同學出國應妥善規劃，至外交部領事事務局網站', '(PDF) 並命名為「3_出國後研修資料_姓名」。\\n2.符合中低收資格者連同第(5)項Excel檔⼀併繳交⾄\\n指定連結。\\n \\n有獎學金的同學( 學海飛颺 )\\n學海計畫受\\n獎⽣⼼得\\n學海計畫受獎⽣請於研修結束後⼆週內⾄教育部\\n「選送⼈才出國研修服務網」上傳⼼得及填寫問\\n卷，⼼得格式參考。', 'outbound@ntut.edu.tw 並向業務承辦提出申請。\\n補件申請：請按本網頁「交換及獎學金申請文件」準備申請資\\n料，於本校每學期開學當日前向業務承辦提出申請，例如欲於\\n114-1 學期出國者，需於 113-2 開學 (114 年 2 月 17 日 ) 前提\\n出，以準備提名作業。\\n 注意  為了不影響原申請人權益，提出「轉換學校」或「補件\\n申請」者需事先確認申請的學校尚有名額。', '⾄指定連結。\\n3.獲補助者額外需繳⽂件 (1)~(14)⽂件請依序掃描\\n成⼀個電⼦檔(PDF)，檔案命名「3_學海/臺奧計\\n畫返國\\n\\xa0 \\xa0後核銷資料_(姓名)」。\\n \\n其他注意事項\\n出國研修須修讀並通過二門 ( 含 ) 以上課程；研修學校另有規定\\n者，應遵守其規定。未完成者國際處有權取消獎學金資格。\\n所有研修生出國應妥善保管機票相關文件，並於研修期程結束', '成⼀個電⼦檔(PDF)，檔案命名「3_學海/臺奧計\\n畫返國\\n\\xa0 \\xa0後核銷資料_(姓名)」。\\n \\n有獎學金的同學( 學海惜珠、臺奧 )\\n學海計畫受\\n獎⽣⼼得\\n學海計畫受獎⽣請於研修結束後⼆週內⾄教育部\\n「選送⼈才出國研修服務網」上傳⼼得及填寫問\\n卷，⼼得格式參考。', '下。檔案命名為「2_出國研修離校資料 _( 姓名 )」，與 (5) 備妥\\n後，上傳至指定連結，紙本請自行留存。\\n獲補助者額外需繳文件\\n1. 「出差請示單」  （範本，紙本自行留存，需夾帶至返國後獲\\n補助者額外需繳⽂件中）\\n2. 「學生證  & 身分證正反面」格式請點我\\n3. 「帳戶」  （請檢附學校登記的帳戶存摺封面）格式請點我\\n4. 「預借經費申請單」（本單據用途為校內撥款，由國際處印製', '出國研修生須配合校內各類說明會或活動，發表交換感想，並\\n主動投稿校刊 (連結) 。\\n \\nStep1 提出申請 ( 校內徵選 )｜  Step2 薦外申請 ( 校外決選 )｜\\nStep3 出國前後應繳資料', '劃。\\n須先通過校內甄選並獲得推薦資格，才能夠進行下一階段 ｢ 校\\n外甄選 ｣ ，名單公告前，請勿自行向研修學校提出申請。\\n請避免申請交換的同時申請其他可能造成時間衝突的計畫，\\n如：雙聯學位或其他院系所出國研修活動。\\n通過校內甄選者，僅獲本校推薦至研修學校之資格，並不代表\\n已獲該校錄取，研修學校仍保有最終入學審查權。', 'google 表單。\\n轉換學校：請填妥「轉換交換校聲明書」，掃描檔案上傳至\\ngoogle 表單。每次轉換「限一次」，如無特殊事由不得任意\\n轉換，並於「交換校薦送期限」截止前 4 週寫信至\\noutbound@ntut.edu.tw 並向業務承辦提出申請。\\n補件申請：請按本網頁「交換及獎學金申請文件」準備申請資\\n料，於本校每學期開學當日前向業務承辦提出申請，例如欲於', '1. 「獲准出國交換離校申請表」（範例）\\n申請表內含專業學分、實習學分抵免欄位，請填妥後至相關單\\n位完成核章。\\n2. 「國外研修機構錄取信影本」\\n3. 「連帶保證書」\\n4. 「出國交換知情同意書」  （ Step1 已繳交者無需提供）', '備註：\\n1.⼀般須繳⽂件(1)~(4)請依序掃描成⼀個電⼦檔\\n(PDF) 並命名為「3_出國後研修資料_姓名」。\\n2.符合中低收資格者連同第(5)項Excel檔⼀併繳交\\n⾄指定連結。\\n3.獲補助者額外需繳⽂件 (1)~(14)⽂件請依序掃描\\n成⼀個電⼦檔(PDF)，檔案命名「3_學海/臺奧計\\n畫返國\\n\\xa0 \\xa0後核銷資料_(姓名)」。\\n \\n其他注意事項', '招生 / 新生入學諮詢  E-mail ：intstudy@ntut.edu.tw\\n國際合作交流業務  E-mail: ntutincoop@gmail.com\\nCopyright © 2024 國立臺北科技大學國際事務處，所刊載內容均受著作權法保護', '招生 / 新生入學諮詢  E-mail ：intstudy@ntut.edu.tw\\n國際合作交流業務  E-mail: ntutincoop@gmail.com\\nCopyright © 2024 國立臺北科技大學國際事務處，所刊載內容均受著作權法保護', '招生 / 新生入學諮詢  E-mail ：intstudy@ntut.edu.tw\\n國際合作交流業務  E-mail: ntutincoop@gmail.com\\nCopyright © 2024 國立臺北科技大學國際事務處，所刊載內容均受著作權法保護', '招生 / 新生入學諮詢  E-mail ：intstudy@ntut.edu.tw\\n國際合作交流業務  E-mail: ntutincoop@gmail.com\\nCopyright © 2024 國立臺北科技大學國際事務處，所刊載內容均受著作權法保護', '查驗\\n\\xa0 \\xa0 \\xa0 \\xa0 \\xa0 \\xa0「當⽇」於內政部入出國及移⺠署「查驗\\n公務櫃台」請求⼈⼯補蓋當次入出國查驗戳章)\\n\\xa0 \\xa0 \\xa0 \\xa0 \\xa0 \\xa0 \\xa0※重點：⼀定要4個戳章！\\n\\u3000\\u3000B. 航空公司開立搭機證明', '查驗\\n\\xa0 \\xa0 \\xa0 \\xa0 \\xa0 \\xa0「當⽇」於內政部入出國及移⺠署「查驗\\n公務櫃台」請求⼈⼯補蓋當次入出國查驗戳章)\\n\\xa0 \\xa0 \\xa0 \\xa0 \\xa0 \\xa0\\xa0※重點：⼀定要4個戳章！\\n\\u3000\\u3000B. 航空公司開立搭機證明', '申請人請先行至學校列表確認申請學校的提名與申請截止日期\\n( 如： fact sheet 、網頁等 ) 。少數學校時間結束較早，請第一\\n時間聯絡國際處承辦人。\\n2. 學生申請繳件：\\n交換校提供申請資料，請配合於期限內完成繳件。流程依各校\\n提供資訊為主，可能包含以下方式 ...\\n(1) 線上：交換校申請網頁填寫基本資料、上傳備審文件。\\n(2) 紙本：交換校提供申請表及備審文件列表，經國際處檢閱', '需針對特定學校撰寫，建議以英文撰寫）\\n5. 行政契約書 （規範內容請詳細閱讀）\\n6. 其他有利申請之文件：如國際化時數累計表 ( 可免附）【募集\\n國際志工中 ( 請點我報名 )】\\n7. 中華民國身分證正反面影本（非中華民國國籍者，請提供在臺\\n居留證正反面影本）\\n8. 特殊身份證明 ( 非對象者可免附）\\n9. 出國交換知情同意書', '校，以免造成不必要的困擾。\\n未收到交換學校入學許可前，請先完成下學期選課作業，勿辦\\n理任何出國相關手續，以免浪費金錢與時間；在收到入學許可\\n後，請記得退選 / 撤選下學期選課，以免有曠課紀錄。\\n補助計畫受獎生如最終未獲任何交換校錄取，其資格將自動取\\n消，不得要求予以保留。\\n出國研修生於研修學校選讀課程，不得要求獲取研修學校之學\\n位。', '返國後\\n一般生 ( 無獎學金的同學 ) 有獎學金的同學 ( 學海飛颺 )\\n有獎學金的同學 ( 學海惜珠 / 臺奧 )\\n \\n請於返國後兩周內辦理以下文件繳交手續。\\n一般生(無獎學金的同學) ：「一般須繳文件」 + 「照片 5 張 .zip\\n檔」。請包在同一封信寄至承辦人信箱，細節請看下方說明。']\u001b[0m\u001b[32;1m\u001b[1;3m您要出國交換學生，一般需要繳交的文件包括：\n",
      "1. 獲准出國交換離校申請表\n",
      "2. 國外研修機構錄取信影本\n",
      "3. 連帶保證書\n",
      "4. 出國交換知情同意書\n",
      "5. 其他有利申請之文件，如國際化時數累計表等\n",
      "另外，若您獲得獎學金，則需要額外繳交的文件包括：\n",
      "1. 出差請示單\n",
      "2. 學生證 & 身分證正反面\n",
      "3. 帳戶\n",
      "4. 預借經費申請單\n",
      "5. 其他相關文件\n",
      "\n",
      "請注意，所需文件可能會因學校或獎學金的不同而有所變動，請務必與相關部門確認。\u001b[0m\n",
      "\n",
      "\u001b[1m> Finished chain.\u001b[0m\n"
     ]
    },
    {
     "data": {
      "text/plain": [
       "{'input': '\\nUse the powerful \"document_retrieval\" tool to search for information using the complete Human message STRICTLY ONLY TWICE, NO MORE, and then respond to the human\\'s message in Traditional Chinese.\\n\\nHuman\\'s message:\\n出國交換生一般需繳文件有哪些？\\n',\n",
       " 'output': '您要出國交換學生，一般需要繳交的文件包括：\\n1. 獲准出國交換離校申請表\\n2. 國外研修機構錄取信影本\\n3. 連帶保證書\\n4. 出國交換知情同意書\\n5. 其他有利申請之文件，如國際化時數累計表等\\n另外，若您獲得獎學金，則需要額外繳交的文件包括：\\n1. 出差請示單\\n2. 學生證 & 身分證正反面\\n3. 帳戶\\n4. 預借經費申請單\\n5. 其他相關文件\\n\\n請注意，所需文件可能會因學校或獎學金的不同而有所變動，請務必與相關部門確認。'}"
      ]
     },
     "execution_count": 53,
     "metadata": {},
     "output_type": "execute_result"
    }
   ],
   "source": [
    "# user_prompt = \"'../data/images/Step2校外徵選.jpg' 請問在校方提名之後，學生要做什麼？\"\n",
    "# user_prompt = \"'../data/images/Step2校外徵選.jpg' 請問校方提名的第一學期是幾月至幾月？\"\n",
    "\n",
    "# user_prompt = f\"\"\"\n",
    "# '../data/images/Step2校外徵選.jpg'\n",
    "# Recommend using tool \"image_interpreting\" to interpret, explain or analyse the content and underlying logic of any given image and return in JSON format.\n",
    "# If information in the image isn't informative enough to answer the Human's message below, you could use the powerful tool \"document_retrieval\" to retrieve relevant information STRICTLY ONLY ONCE from the robust document database using 'Human's message' below.\n",
    "\n",
    "# Human's message:\n",
    "# \"學生負責事項有哪些？\"\n",
    "# \"\"\"\n",
    "\n",
    "user_prompt = f\"\"\"\n",
    "Use the powerful \"document_retrieval\" tool to search for information using the complete Human message STRICTLY ONLY TWICE, NO MORE, and then respond to the human's message in Traditional Chinese.\n",
    "\n",
    "Human's message:\n",
    "出國交換生一般需繳文件有哪些？\n",
    "\"\"\"\n",
    "\n",
    "\n",
    "agent_executor.invoke(\n",
    "    {\n",
    "        \"input\": user_prompt\n",
    "    }\n",
    ")"
   ]
  },
  {
   "cell_type": "markdown",
   "metadata": {},
   "source": [
    "### Ignore"
   ]
  },
  {
   "cell_type": "code",
   "execution_count": null,
   "metadata": {},
   "outputs": [],
   "source": [
    "system_prompt = f\"\"\"\n",
    "When you receive a tool call response, use the output to format an answer to the orginal user question.\n",
    "\n",
    "You are a helpful assistant with tool calling capabilities.\n",
    "\"\"\"\n",
    "\n",
    "user_prompt = f\"\"\"\n",
    "Here's a list of images that you can perform Optical Character Recognition (OCR) on to extract the texts in the image.\n",
    "The images are provided with their file path:\n",
    "1. \"data/images/Step1校內徵選.jpg\"\n",
    "\n",
    "Step1校內徵選的流程是什麼？\n",
    "\"\"\"\n",
    "\n",
    "# I would like to know what texts are written on \"Step1 校內徵選\" image. Please help me out.\n",
    "\n",
    "# I provided an image file with the file path: \"data/images/Step1校內徵選.jpg\".\n",
    "# Please perform Optical Character Recognition (OCR) on the image and show me the result.\n",
    "\n",
    "messages = [\n",
    "    (\"system\", system_prompt),\n",
    "    (\"human\", user_prompt),\n",
    "]"
   ]
  },
  {
   "cell_type": "code",
   "execution_count": null,
   "metadata": {},
   "outputs": [
    {
     "name": "stdout",
     "output_type": "stream",
     "text": [
      "content: \n",
      "additional_kwargs: {'tool_calls': [{'id': 'call_fjk0', 'function': {'arguments': '{\"image_file_path\": \"data/images/Step1校內徵選.jpg\"}', 'name': 'image_ocr'}, 'type': 'function'}]}\n",
      "response_metadata: {'token_usage': {'completion_tokens': 27, 'prompt_tokens': 356, 'total_tokens': 383, 'completion_time': 0.098181818, 'prompt_time': 0.042432677, 'queue_time': 0.019514951999999995, 'total_time': 0.140614495}, 'model_name': 'llama-3.1-70b-versatile', 'system_fingerprint': 'fp_fcc3b74982', 'finish_reason': 'tool_calls', 'logprobs': None}\n",
      "type: ai\n",
      "name: None\n",
      "id: run-d10394e2-827a-477d-bd05-5b595067b156-0\n",
      "example: False\n",
      "tool_calls: [{'name': 'image_ocr', 'args': {'image_file_path': 'data/images/Step1校內徵選.jpg'}, 'id': 'call_fjk0', 'type': 'tool_call'}]\n",
      "invalid_tool_calls: []\n",
      "usage_metadata: {'input_tokens': 356, 'output_tokens': 27, 'total_tokens': 383}\n"
     ]
    }
   ],
   "source": [
    "# Invoke\n",
    "response = llm_with_tools.invoke(messages)\n",
    "\n",
    "for key, value in vars(response).items():\n",
    "    print(f\"{key}: {value}\")"
   ]
  }
 ],
 "metadata": {
  "language_info": {
   "name": "python"
  }
 },
 "nbformat": 4,
 "nbformat_minor": 2
}
