{
 "cells": [
  {
   "cell_type": "markdown",
   "metadata": {},
   "source": [
    "# Vision LLM"
   ]
  },
  {
   "cell_type": "markdown",
   "metadata": {},
   "source": [
    "## Import"
   ]
  },
  {
   "cell_type": "code",
   "execution_count": 1,
   "metadata": {},
   "outputs": [],
   "source": [
    "from groq import Groq\n",
    "import base64\n",
    "import os"
   ]
  },
  {
   "cell_type": "markdown",
   "metadata": {},
   "source": [
    "## Setup"
   ]
  },
  {
   "cell_type": "code",
   "execution_count": null,
   "metadata": {},
   "outputs": [],
   "source": [
    "# 刪除環境變量\n",
    "if \"GROQ_API_KEY\" in os.environ:\n",
    "    del os.environ[\"GROQ_API_KEY\"]"
   ]
  },
  {
   "cell_type": "code",
   "execution_count": null,
   "metadata": {},
   "outputs": [
    {
     "name": "stdout",
     "output_type": "stream",
     "text": [
      "Project root: /Users/allen/Documents/code/Exchange_QA_Chatbot\n",
      "Successfully loaded env variables: True\n"
     ]
    }
   ],
   "source": [
    "# 找根目錄\n",
    "def find_project_root(current_path, marker=\".git\"):\n",
    "    current_path = Path(current_path).resolve()\n",
    "    for parent in current_path.parents:\n",
    "        if (parent / marker).exists():\n",
    "            return parent\n",
    "    return None\n",
    "\n",
    "current_path = os.getcwd()\n",
    "project_root = find_project_root(current_path, marker=\".git\")\n",
    "print(\"Project root:\", project_root)\n",
    "\n",
    "# Load .env file\n",
    "print(f\"Successfully loaded env variables: {load_dotenv(project_root / \".env\")}\")"
   ]
  },
  {
   "cell_type": "code",
   "execution_count": null,
   "metadata": {},
   "outputs": [
    {
     "name": "stdout",
     "output_type": "stream",
     "text": [
      "Loaded env variables:\n",
      "GROQ_API_KEY = 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\n"
     ]
    }
   ],
   "source": [
    "# Load env variables into python variables\n",
    "print(\"Loaded env variables:\")\n",
    "print(f\"GROQ_API_KEY = {os.getenv(\"GROQ_API_KEY\")}\")\n",
    "GROQ_API_KEY = os.getenv(\"GROQ_API_KEY\")"
   ]
  },
  {
   "cell_type": "markdown",
   "metadata": {},
   "source": [
    "## Gogo"
   ]
  },
  {
   "cell_type": "code",
   "execution_count": 4,
   "metadata": {},
   "outputs": [],
   "source": [
    "# Function to encode the image\n",
    "def encode_image(image_path):\n",
    "    with open(image_path, \"rb\") as image_file:\n",
    "        return base64.b64encode(image_file.read()).decode('utf-8')"
   ]
  },
  {
   "cell_type": "code",
   "execution_count": 5,
   "metadata": {},
   "outputs": [],
   "source": [
    "# Path to your image\n",
    "image_path = \"../data/images/Step2校外徵選.jpg\"\n",
    "\n",
    "# Getting the base64 string\n",
    "base64_image = encode_image(image_path)"
   ]
  },
  {
   "cell_type": "code",
   "execution_count": 6,
   "metadata": {},
   "outputs": [],
   "source": [
    "request_text = \"You are an assistant skilled at interpreting the content and underlying logic in images. Texts in this image are in Traditional Chinese. List what you observe in this image in JSON format.\""
   ]
  },
  {
   "cell_type": "code",
   "execution_count": null,
   "metadata": {},
   "outputs": [],
   "source": [
    "client = Groq(api_key=os.environ.get(\"GROQ_API_KEY\"))\n",
    "\n",
    "chat_completion = client.chat.completions.create(\n",
    "    model=\"llama-3.2-90b-vision-preview\",\n",
    "    messages=[\n",
    "        {\n",
    "            \"role\": \"user\",\n",
    "            \"content\": [\n",
    "                {   \n",
    "                    \"type\": \"text\",\n",
    "                    \"text\": request_text\n",
    "                },\n",
    "                {\n",
    "                    \"type\": \"image_url\",\n",
    "                    \"image_url\": {\n",
    "                        \"url\": f\"data:image/jpeg;base64,{base64_image}\",\n",
    "                    },\n",
    "                },\n",
    "            ],\n",
    "        }\n",
    "    ],\n",
    "    temperature=0.0,\n",
    "    top_p=1,\n",
    "    stream=False,\n",
    "    response_format={\"type\": \"json_object\"},\n",
    "    stop=None,\n",
    ")"
   ]
  },
  {
   "cell_type": "code",
   "execution_count": 11,
   "metadata": {},
   "outputs": [
    {
     "name": "stdout",
     "output_type": "stream",
     "text": [
      "{\n",
      "   \"title\": \"Step2. 校外徵選\",\n",
      "   \"sections\": [\n",
      "       {\n",
      "           \"title\": \"Nomination\",\n",
      "           \"description\": \"校方提名\",\n",
      "           \"dates\": [\"第一學期：2月至3月\", \"第二學期：8月至9月\"]\n",
      "       },\n",
      "       {\n",
      "           \"title\": \"Application\",\n",
      "           \"description\": \"學生申請文件\",\n",
      "           \"description2\": \"申請文件及期程依各交換校規定辦理\"\n",
      "       },\n",
      "       {\n",
      "           \"title\": \"Result\",\n",
      "           \"description\": \"結果通知\",\n",
      "           \"description2\": \"母校通知\",\n",
      "           \"description3\": \"交換校通知\"\n",
      "       },\n",
      "       {\n",
      "           \"title\": \"學生負責事項\",\n",
      "           \"description\": \"包含住宿、簽證、交通、保險、健康檢查，限制提領帳戶...等(依各交換校及所在國家規定)\"\n",
      "       }\n",
      "   ],\n",
      "   \"button\": {\n",
      "       \"text\": \"看詳細資訊\",\n",
      "       \"color\": \"orange\"\n",
      "   }\n",
      "}\n"
     ]
    }
   ],
   "source": [
    "print(chat_completion.choices[0].message.content)"
   ]
  }
 ],
 "metadata": {
  "kernelspec": {
   "display_name": "venv",
   "language": "python",
   "name": "python3"
  },
  "language_info": {
   "codemirror_mode": {
    "name": "ipython",
    "version": 3
   },
   "file_extension": ".py",
   "mimetype": "text/x-python",
   "name": "python",
   "nbconvert_exporter": "python",
   "pygments_lexer": "ipython3",
   "version": "3.12.8"
  }
 },
 "nbformat": 4,
 "nbformat_minor": 2
}
